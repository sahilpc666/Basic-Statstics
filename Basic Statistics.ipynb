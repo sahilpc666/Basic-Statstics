{
 "cells": [
  {
   "cell_type": "code",
   "execution_count": 1,
   "id": "cd0a0255-ee17-4f55-9a00-2395e523a4b0",
   "metadata": {},
   "outputs": [],
   "source": [
    "import numpy as np\n",
    "import scipy.stats as stats"
   ]
  },
  {
   "cell_type": "code",
   "execution_count": 3,
   "id": "37dd8c96-c26f-4cf7-beb7-c6cc4976435d",
   "metadata": {},
   "outputs": [],
   "source": [
    "df=np.array([1.34,1.45,1.87,1.47,1.76,1.98,1.65,1.54,1.84,0.92,0.65,1.54,1.33])"
   ]
  },
  {
   "cell_type": "code",
   "execution_count": 5,
   "id": "8b6250b0-795a-400d-838a-fa4fadf8c287",
   "metadata": {},
   "outputs": [
    {
     "data": {
      "text/plain": [
       "array([1.34, 1.45, 1.87, 1.47, 1.76, 1.98, 1.65, 1.54, 1.84, 0.92, 0.65,\n",
       "       1.54, 1.33])"
      ]
     },
     "execution_count": 5,
     "metadata": {},
     "output_type": "execute_result"
    }
   ],
   "source": [
    "df"
   ]
  },
  {
   "cell_type": "code",
   "execution_count": 11,
   "id": "05728c1c-9324-4a09-964e-476a42b6358b",
   "metadata": {},
   "outputs": [
    {
     "data": {
      "text/plain": [
       "1.4876923076923074"
      ]
     },
     "execution_count": 11,
     "metadata": {},
     "output_type": "execute_result"
    }
   ],
   "source": [
    "mean_val=np.mean(df)\n",
    "mean_val"
   ]
  },
  {
   "cell_type": "code",
   "execution_count": 13,
   "id": "74c54ebe-f070-4b6a-bf69-9794a95562b0",
   "metadata": {},
   "outputs": [
    {
     "data": {
      "text/plain": [
       "0.36066506614978444"
      ]
     },
     "execution_count": 13,
     "metadata": {},
     "output_type": "execute_result"
    }
   ],
   "source": [
    "std_val=np.std(df)\n",
    "std_val"
   ]
  },
  {
   "cell_type": "code",
   "execution_count": 15,
   "id": "06acf161-4d99-4b3f-99c8-e4a339df4bf9",
   "metadata": {},
   "outputs": [
    {
     "data": {
      "text/plain": [
       "13"
      ]
     },
     "execution_count": 15,
     "metadata": {},
     "output_type": "execute_result"
    }
   ],
   "source": [
    "n=len(df)\n",
    "n"
   ]
  },
  {
   "cell_type": "code",
   "execution_count": 17,
   "id": "66a4aa8e-5ac1-4424-9750-2ab437af26f0",
   "metadata": {},
   "outputs": [],
   "source": [
    "alpha=0.01"
   ]
  },
  {
   "cell_type": "code",
   "execution_count": 19,
   "id": "d4b81951-c698-4f14-9bc4-4051f713aec2",
   "metadata": {},
   "outputs": [
    {
     "data": {
      "text/plain": [
       "12"
      ]
     },
     "execution_count": 19,
     "metadata": {},
     "output_type": "execute_result"
    }
   ],
   "source": [
    "df1=n-1\n",
    "df1"
   ]
  },
  {
   "cell_type": "code",
   "execution_count": 21,
   "id": "45b09602-e623-43f7-937f-c7f7fe11d599",
   "metadata": {},
   "outputs": [],
   "source": [
    "critical=stats.t.ppf(1-alpha/2,df1)"
   ]
  },
  {
   "cell_type": "code",
   "execution_count": 29,
   "id": "8c560f39-60e8-4819-9876-53b5158af612",
   "metadata": {},
   "outputs": [],
   "source": [
    "margin_of_error=critical*(std_val/np.sqrt(n))\n",
    "confidence_interval=(mean_val - margin_of_error,mean_val+margin_of_error)"
   ]
  },
  {
   "cell_type": "code",
   "execution_count": 31,
   "id": "504e280b-8708-4101-9d97-270819c21d8d",
   "metadata": {},
   "outputs": [],
   "source": [
    "population_std=0.2"
   ]
  },
  {
   "cell_type": "code",
   "execution_count": 33,
   "id": "aa88ffe9-8da9-497e-8ec1-d94f590391f4",
   "metadata": {},
   "outputs": [],
   "source": [
    "critical_a=stats.norm.ppf(1-alpha/2)"
   ]
  },
  {
   "cell_type": "code",
   "execution_count": 39,
   "id": "addbbdba-6997-4ab7-8767-f53817d326ae",
   "metadata": {},
   "outputs": [],
   "source": [
    "margin_of_error_b= critical_a*(population_std/np.sqrt(n))\n",
    "confidence_interval_b=(mean_val - margin_of_error_b, sample_mean + margin_of_error_b)"
   ]
  },
  {
   "cell_type": "code",
   "execution_count": 41,
   "id": "088f3635-414f-423d-854d-c4d4a2e31391",
   "metadata": {},
   "outputs": [
    {
     "name": "stdout",
     "output_type": "stream",
     "text": [
      "1.4876923076923074\n",
      "0.36066506614978444\n",
      "with std_val (1.1821452113127793, 1.7932394040718356)\n",
      "with population std (1.3448110056801803, 1.6305736097044345)\n"
     ]
    }
   ],
   "source": [
    "print(mean_val)\n",
    "print(std_val)\n",
    "print(\"with std_val\", confidence_interval)\n",
    "print(\"with population std\", confidence_interval_b)\n"
   ]
  },
  {
   "cell_type": "code",
   "execution_count": null,
   "id": "36ca29d4-3e43-4d42-b5bb-052d52c60daf",
   "metadata": {},
   "outputs": [],
   "source": []
  }
 ],
 "metadata": {
  "kernelspec": {
   "display_name": "Python 3 (ipykernel)",
   "language": "python",
   "name": "python3"
  },
  "language_info": {
   "codemirror_mode": {
    "name": "ipython",
    "version": 3
   },
   "file_extension": ".py",
   "mimetype": "text/x-python",
   "name": "python",
   "nbconvert_exporter": "python",
   "pygments_lexer": "ipython3",
   "version": "3.12.7"
  }
 },
 "nbformat": 4,
 "nbformat_minor": 5
}
